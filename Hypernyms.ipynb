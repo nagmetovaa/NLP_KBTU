{
 "cells": [
  {
   "cell_type": "markdown",
   "metadata": {
    "ExecuteTime": {
     "end_time": "2020-02-12T17:56:22.948195Z",
     "start_time": "2020-02-12T17:56:22.944176Z"
    }
   },
   "source": [
    "### Lab 2: Hyponyms and Hypernyms"
   ]
  },
  {
   "cell_type": "code",
   "execution_count": 24,
   "metadata": {
    "ExecuteTime": {
     "end_time": "2020-02-12T14:12:16.470920Z",
     "start_time": "2020-02-12T14:12:15.640262Z"
    }
   },
   "outputs": [
    {
     "name": "stdout",
     "output_type": "stream",
     "text": [
      "4\n"
     ]
    }
   ],
   "source": [
    "import pandas as pd\n",
    "import wikipedia\n",
    "import os\n",
    "from tqdm import tqdm\n",
    "from joblib import Parallel, delayed\n",
    "import multiprocessing\n",
    "import networkx as nx\n",
    "import matplotlib.pyplot as plt\n",
    "from collections import defaultdict\n",
    "from ipywidgets import interact, interactive, fixed, interact_manual,widgets\n",
    "from IPython.display import display\n",
    "import json\n",
    "num_cores = multiprocessing.cpu_count()\n",
    "print(num_cores)\n",
    "wikipedia.set_lang(\"ru\")\n",
    "# DATA_PATH_LIST = ['D:','src2','taxonomy-enrichment','data','training_data']\n",
    "# DATA_PATH_LIST = ['/content']\n",
    "# EMBEDDING_MODEL_FILENAME = \"wiki_node2vec.bin\"\n",
    "# DATA_PATH=\"/\".join(DATA_PATH_LIST+[\"training_nouns.tsv\"])\n",
    "# df = pd.read_csv(DATA_PATH,sep='\\t')\n",
    "%matplotlib inline"
   ]
  },
  {
   "cell_type": "code",
   "execution_count": 18,
   "metadata": {},
   "outputs": [
    {
     "ename": "ModuleNotFoundError",
     "evalue": "No module named 'google'",
     "output_type": "error",
     "traceback": [
      "\u001b[0;31m---------------------------------------------------------------------------\u001b[0m",
      "\u001b[0;31mModuleNotFoundError\u001b[0m                       Traceback (most recent call last)",
      "\u001b[0;32m<ipython-input-18-d5df0069828e>\u001b[0m in \u001b[0;36m<module>\u001b[0;34m\u001b[0m\n\u001b[0;32m----> 1\u001b[0;31m \u001b[0;32mfrom\u001b[0m \u001b[0mgoogle\u001b[0m\u001b[0;34m.\u001b[0m\u001b[0mcolab\u001b[0m \u001b[0;32mimport\u001b[0m \u001b[0mdrive\u001b[0m\u001b[0;34m\u001b[0m\u001b[0;34m\u001b[0m\u001b[0m\n\u001b[0m\u001b[1;32m      2\u001b[0m \u001b[0mdrive\u001b[0m\u001b[0;34m.\u001b[0m\u001b[0mmount\u001b[0m\u001b[0;34m(\u001b[0m\u001b[0;34m'/content/drive'\u001b[0m\u001b[0;34m)\u001b[0m\u001b[0;34m\u001b[0m\u001b[0;34m\u001b[0m\u001b[0m\n",
      "\u001b[0;31mModuleNotFoundError\u001b[0m: No module named 'google'"
     ]
    }
   ],
   "source": [
    "from google.colab import drive\n",
    "drive.mount('/content/drive')"
   ]
  },
  {
   "cell_type": "code",
   "execution_count": 4,
   "metadata": {
    "ExecuteTime": {
     "end_time": "2020-02-12T14:12:16.475780Z",
     "start_time": "2020-02-12T14:12:16.473114Z"
    }
   },
   "outputs": [],
   "source": [
    "def prestr(x):\n",
    "    return str(x).replace('\\\"','').replace(\"'\",'\"')"
   ]
  },
  {
   "cell_type": "code",
   "execution_count": 5,
   "metadata": {
    "ExecuteTime": {
     "end_time": "2020-02-12T14:12:16.685506Z",
     "start_time": "2020-02-12T14:12:16.477634Z"
    }
   },
   "outputs": [
    {
     "ename": "NameError",
     "evalue": "name 'df' is not defined",
     "output_type": "error",
     "traceback": [
      "\u001b[0;31m---------------------------------------------------------------------------\u001b[0m",
      "\u001b[0;31mNameError\u001b[0m                                 Traceback (most recent call last)",
      "\u001b[0;32m<ipython-input-5-6adb23f00266>\u001b[0m in \u001b[0;36m<module>\u001b[0;34m\u001b[0m\n\u001b[1;32m      5\u001b[0m \u001b[0;34m\u001b[0m\u001b[0m\n\u001b[1;32m      6\u001b[0m \u001b[0midx2syns\u001b[0m \u001b[0;34m=\u001b[0m \u001b[0mDefDict\u001b[0m\u001b[0;34m(\u001b[0m\u001b[0;32mlambda\u001b[0m \u001b[0mx\u001b[0m\u001b[0;34m:\u001b[0m\u001b[0mx\u001b[0m\u001b[0;34m)\u001b[0m\u001b[0;34m\u001b[0m\u001b[0;34m\u001b[0m\u001b[0m\n\u001b[0;32m----> 7\u001b[0;31m \u001b[0;32mfor\u001b[0m \u001b[0mval\u001b[0m \u001b[0;32min\u001b[0m \u001b[0mdf\u001b[0m\u001b[0;34m.\u001b[0m\u001b[0mvalues\u001b[0m\u001b[0;34m:\u001b[0m\u001b[0;34m\u001b[0m\u001b[0;34m\u001b[0m\u001b[0m\n\u001b[0m\u001b[1;32m      8\u001b[0m     \u001b[0midx2syns\u001b[0m\u001b[0;34m[\u001b[0m\u001b[0mval\u001b[0m\u001b[0;34m[\u001b[0m\u001b[0;36m0\u001b[0m\u001b[0;34m]\u001b[0m\u001b[0;34m]\u001b[0m\u001b[0;34m=\u001b[0m\u001b[0mval\u001b[0m\u001b[0;34m[\u001b[0m\u001b[0;36m1\u001b[0m\u001b[0;34m]\u001b[0m\u001b[0;34m\u001b[0m\u001b[0;34m\u001b[0m\u001b[0m\n\u001b[1;32m      9\u001b[0m     \u001b[0;32mtry\u001b[0m\u001b[0;34m:\u001b[0m\u001b[0;34m\u001b[0m\u001b[0;34m\u001b[0m\u001b[0m\n",
      "\u001b[0;31mNameError\u001b[0m: name 'df' is not defined"
     ]
    }
   ],
   "source": [
    "class DefDict(defaultdict):\n",
    "    def __missing__(self, key):\n",
    "        self[key] = key\n",
    "        return key\n",
    "    \n",
    "idx2syns = DefDict(lambda x:x)\n",
    "for val in df.values:\n",
    "    idx2syns[val[0]]=val[1]\n",
    "    try:\n",
    "        pidxs = json.loads(prestr(val[2]))\n",
    "        concp = [el.split(\",\")[0] for el in json.loads(prestr(val[3]))]\n",
    "        idx2syns.update(dict(zip(pidxs,concp)))\n",
    "    except:\n",
    "        print(prestr(val[2]))\n",
    "        print(prestr(val[3]))"
   ]
  },
  {
   "cell_type": "markdown",
   "metadata": {
    "ExecuteTime": {
     "end_time": "2020-02-12T17:12:34.060220Z",
     "start_time": "2020-02-12T17:12:34.055235Z"
    }
   },
   "source": [
    "### Interactive visualization of hyponyms and hypernyms"
   ]
  },
  {
   "cell_type": "code",
   "execution_count": 6,
   "metadata": {
    "ExecuteTime": {
     "end_time": "2020-02-12T17:11:37.966489Z",
     "start_time": "2020-02-12T17:11:37.931688Z"
    }
   },
   "outputs": [
    {
     "data": {
      "application/vnd.jupyter.widget-view+json": {
       "model_id": "76c2e9b202ba4af8b91c3565bc19a640",
       "version_major": 2,
       "version_minor": 0
      },
      "text/plain": [
       "Button(description='Draw', style=ButtonStyle())"
      ]
     },
     "metadata": {},
     "output_type": "display_data"
    },
    {
     "data": {
      "application/vnd.jupyter.widget-view+json": {
       "model_id": "c9a222abf47040628b3be23c9cbd98bd",
       "version_major": 2,
       "version_minor": 0
      },
      "text/plain": [
       "Text(value='МАТЬ', description='String:', placeholder='Query')"
      ]
     },
     "metadata": {},
     "output_type": "display_data"
    }
   ],
   "source": [
    "button = widgets.Button(description=\"Draw\")\n",
    "query = widgets.Text(\n",
    "    value='МАТЬ',\n",
    "    placeholder='Query',\n",
    "    description='String:',\n",
    "    disabled=False\n",
    ")\n",
    "display(button,query)\n",
    "\n",
    "\n",
    "\n",
    "\n",
    "def creategraph(df):\n",
    "    res = []\n",
    "    for row in df.values:\n",
    "        cohyps = row[1].split(\",\")\n",
    "        for idx,cohyp in enumerate(cohyps):\n",
    "            for parent in json.loads(prestr(row[2])):\n",
    "                res.append((row[0]+'-'+str(idx),parent))\n",
    "    return res\n",
    "\n",
    "def graphdraw(b):\n",
    "    print(\"graphdraw\",query.value)\n",
    "    subset = df[df['TEXT'].str.contains(query.value.upper())]\n",
    "    g = nx.DiGraph()\n",
    "    for el in subset.values:\n",
    "        cohyps = el[1].split(\",\")\n",
    "        print(cohyps)\n",
    "        syns = idx2syns[el[0]]\n",
    "        for child in cohyps:\n",
    "            for parent in json.loads(prestr(el[2])):\n",
    "                ed = g.add_edge(child,idx2syns[parent],label=\"is a\")\n",
    "            \n",
    "    plt.figure(figsize=(15,15))\n",
    "    pos = nx.nx_agraph.graphviz_layout(g)\n",
    "    nx.draw(g,with_labels=True,pos=pos)\n",
    "#     edge_labels=nx.draw_networkx_edge_labels(g,pos=pos)\n",
    "    plt.show()\n",
    "button.on_click(graphdraw)"
   ]
  },
  {
   "cell_type": "markdown",
   "metadata": {
    "ExecuteTime": {
     "end_time": "2020-02-12T11:38:20.619158Z",
     "start_time": "2020-02-12T11:38:20.614734Z"
    }
   },
   "source": [
    "### Pattern extractor\n",
    "\n",
    "Yargy — библиотека для извлечения структурированной информации из текстов на русском языке. Правила описываются контекстно-свободными грамматиками и словарями ключевых слов. Банк готовых правил для имён, дат, адресов и других сущностей доступен в репозитории Natasha.\n",
    "* https://yargy.readthedocs.io/ru/latest/\n",
    "* http://pymorphy2.readthedocs.io/en/latest/user/grammemes.html\n",
    "* https://github.com/natasha/natasha"
   ]
  },
  {
   "cell_type": "markdown",
   "metadata": {
    "ExecuteTime": {
     "start_time": "2020-02-12T13:09:50.486Z"
    }
   },
   "source": [
    "### Токенизатор"
   ]
  },
  {
   "cell_type": "code",
   "execution_count": 26,
   "metadata": {
    "ExecuteTime": {
     "end_time": "2020-02-12T14:12:16.819980Z",
     "start_time": "2020-02-12T14:12:16.708109Z"
    }
   },
   "outputs": [
    {
     "name": "stdout",
     "output_type": "stream",
     "text": [
      "['Ростов', '-', 'на', '-', 'Дону']\n",
      "['Длительностью', '18', 'ч', '.', '10', 'мин', '.']\n",
      "['Яндекс', '.', 'Такси']\n",
      "['π', '≈', '3', '.', '1415']\n",
      "['1', '500', '000', '$']\n",
      "['http', ':', '/', '/', 'vk', '.', 'com']\n"
     ]
    }
   ],
   "source": [
    "from yargy.tokenizer import MorphTokenizer\n",
    "\n",
    "\n",
    "tokenizer = MorphTokenizer()\n",
    "text = '''Ростов-на-Дону\n",
    "Длительностью 18ч. 10мин.\n",
    "Яндекс.Такси\n",
    "π ≈ 3.1415\n",
    "1 500 000$\n",
    "http://vk.com\n",
    "'''\n",
    "for line in text.splitlines():\n",
    "    print([_.value for _ in tokenizer(line)])"
   ]
  },
  {
   "cell_type": "markdown",
   "metadata": {
    "ExecuteTime": {
     "end_time": "2020-02-12T13:11:56.582467Z",
     "start_time": "2020-02-12T13:11:56.566175Z"
    }
   },
   "source": [
    "# Газеттир\n",
    "Газеттир нужен для удобной работы с последовательностью слов. Например, можно написать:"
   ]
  },
  {
   "cell_type": "code",
   "execution_count": 27,
   "metadata": {
    "ExecuteTime": {
     "end_time": "2020-02-12T14:12:16.844412Z",
     "start_time": "2020-02-12T14:12:16.821582Z"
    }
   },
   "outputs": [],
   "source": [
    "from yargy import or_, rule\n",
    "from yargy.predicates import normalized\n",
    "\n",
    "RULE = or_(\n",
    "    rule(normalized('dvd'), '-', normalized('диск')),\n",
    "    rule(normalized('видео'), normalized('файл'))\n",
    ")"
   ]
  },
  {
   "cell_type": "code",
   "execution_count": 28,
   "metadata": {
    "ExecuteTime": {
     "end_time": "2020-02-12T14:12:16.968622Z",
     "start_time": "2020-02-12T14:12:16.846737Z"
    }
   },
   "outputs": [
    {
     "name": "stdout",
     "output_type": "stream",
     "text": [
      "['Видео', 'файл']\n",
      "['dvd', '-', 'диске']\n"
     ]
    }
   ],
   "source": [
    "from yargy import Parser\n",
    "from yargy.pipelines import morph_pipeline\n",
    "\n",
    "\n",
    "RULE = morph_pipeline([\n",
    "    'dvd-диск',\n",
    "    'видео файл',\n",
    "    'видеофильм',\n",
    "    'газета',\n",
    "    'электронный дневник',\n",
    "    'эссе',\n",
    "])\n",
    "\n",
    "parser = Parser(RULE)\n",
    "text = 'Видео файл на dvd-диске'\n",
    "for match in parser.findall(text):\n",
    "    print([_.value for _ in match.tokens])"
   ]
  },
  {
   "cell_type": "code",
   "execution_count": 10,
   "metadata": {
    "ExecuteTime": {
     "end_time": "2020-02-12T14:12:54.576104Z",
     "start_time": "2020-02-12T14:12:54.511149Z"
    }
   },
   "outputs": [
    {
     "ename": "ModuleNotFoundError",
     "evalue": "No module named 'yargy'",
     "output_type": "error",
     "traceback": [
      "\u001b[0;31m---------------------------------------------------------------------------\u001b[0m",
      "\u001b[0;31mModuleNotFoundError\u001b[0m                       Traceback (most recent call last)",
      "\u001b[0;32m<ipython-input-10-b3a8cc38cc19>\u001b[0m in \u001b[0;36m<module>\u001b[0;34m\u001b[0m\n\u001b[0;32m----> 1\u001b[0;31m \u001b[0;32mfrom\u001b[0m \u001b[0myargy\u001b[0m \u001b[0;32mimport\u001b[0m \u001b[0mParser\u001b[0m\u001b[0;34m,\u001b[0m \u001b[0mrule\u001b[0m\u001b[0;34m,\u001b[0m \u001b[0mand_\u001b[0m\u001b[0;34m\u001b[0m\u001b[0;34m\u001b[0m\u001b[0m\n\u001b[0m\u001b[1;32m      2\u001b[0m \u001b[0;32mfrom\u001b[0m \u001b[0myargy\u001b[0m\u001b[0;34m.\u001b[0m\u001b[0mpredicates\u001b[0m \u001b[0;32mimport\u001b[0m \u001b[0mgram\u001b[0m\u001b[0;34m,\u001b[0m \u001b[0mis_capitalized\u001b[0m\u001b[0;34m,\u001b[0m \u001b[0mdictionary\u001b[0m\u001b[0;34m\u001b[0m\u001b[0;34m\u001b[0m\u001b[0m\n\u001b[1;32m      3\u001b[0m \u001b[0;34m\u001b[0m\u001b[0m\n\u001b[1;32m      4\u001b[0m \u001b[0;34m\u001b[0m\u001b[0m\n\u001b[1;32m      5\u001b[0m GEO = rule(\n",
      "\u001b[0;31mModuleNotFoundError\u001b[0m: No module named 'yargy'"
     ]
    }
   ],
   "source": [
    "from yargy import Parser, rule, and_\n",
    "from yargy.predicates import gram, is_capitalized, dictionary\n",
    "\n",
    "\n",
    "GEO = rule(\n",
    "    and_(\n",
    "        gram('ADJF'),  # так помечается прилагательное, остальные пометки описаны в\n",
    "                       # http://pymorphy2.readthedocs.io/en/latest/user/grammemes.html\n",
    "        is_capitalized()\n",
    "    ),\n",
    "    gram('ADJF').optional().repeatable(),\n",
    "    dictionary({\n",
    "        'федерация',\n",
    "        'республика'\n",
    "    })\n",
    ")\n",
    "\n",
    "\n",
    "parser = Parser(GEO)\n",
    "text = '''\n",
    "В Чеченской республике на день рождения ...\n",
    "Донецкая народная республика провозгласила ...\n",
    "Башня Федерация — одна из самых высоких ...\n",
    "'''\n",
    "for match in parser.findall(text):\n",
    "    print([_.value for _ in match.tokens])"
   ]
  },
  {
   "cell_type": "markdown",
   "metadata": {
    "ExecuteTime": {
     "end_time": "2020-02-12T13:13:57.167613Z",
     "start_time": "2020-02-12T13:13:57.159920Z"
    }
   },
   "source": [
    "### Предикаты\n",
    "\n",
    "Предикат — функция, которая принимает на вход токен и возвращает True или False. В Yargy встроено много готовых предикатов. Полный список есть в справочнике. Предикаты комбинируются с помощью and_, or_ и not_."
   ]
  },
  {
   "cell_type": "code",
   "execution_count": 29,
   "metadata": {
    "ExecuteTime": {
     "end_time": "2020-02-12T14:12:17.173350Z",
     "start_time": "2020-02-12T14:12:17.136108Z"
    }
   },
   "outputs": [
    {
     "name": "stdout",
     "output_type": "stream",
     "text": [
      "True\n",
      "True\n"
     ]
    }
   ],
   "source": [
    "from yargy import and_, not_\n",
    "from yargy.tokenizer import MorphTokenizer\n",
    "from yargy.predicates import is_capitalized, eq\n",
    "\n",
    "\n",
    "tokenizer = MorphTokenizer()\n",
    "token = next(tokenizer('Стали'))\n",
    "\n",
    "predicate = is_capitalized()\n",
    "print(predicate(token))\n",
    "\n",
    "predicate = and_(\n",
    "    is_capitalized(),\n",
    "    not_(eq('марки'))\n",
    ")\n",
    "print(predicate(token))"
   ]
  },
  {
   "cell_type": "markdown",
   "metadata": {
    "ExecuteTime": {
     "end_time": "2020-02-12T13:15:56.600763Z",
     "start_time": "2020-02-12T13:15:56.596609Z"
    }
   },
   "source": [
    "### Грамматики\n",
    "В Yargy используется специальный DSL для описания грамматик. Любую контекстно-свободную грамматику можно описать с помощью конструкций Питона. Например, есть примитивная грамматика для размеров одежды:\n",
    "\n",
    "KEY -> р. | размер\n",
    "\n",
    "VALUE -> S | M | L\n",
    "\n",
    "SIZE -> KEY VALUE\n",
    "\n"
   ]
  },
  {
   "cell_type": "code",
   "execution_count": 30,
   "metadata": {
    "ExecuteTime": {
     "end_time": "2020-02-12T14:14:21.602988Z",
     "start_time": "2020-02-12T14:14:21.589310Z"
    }
   },
   "outputs": [
    {
     "data": {
      "text/plain": [
       "SIZE -> KEY VALUE\n",
       "KEY -> 'р' '.' | 'размер'\n",
       "VALUE -> 'S' | 'M' | 'L' | 'XS'\n"
      ]
     },
     "execution_count": 30,
     "metadata": {},
     "output_type": "execute_result"
    }
   ],
   "source": [
    "from yargy import rule, or_\n",
    "\n",
    "\n",
    "KEY = or_(\n",
    "    rule('р', '.'),\n",
    "    rule('размер')\n",
    ").named('KEY')\n",
    "VALUE = or_(\n",
    "    rule('S'),\n",
    "    rule('M'),\n",
    "    rule('L'),\n",
    "    rule('XS'),\n",
    ").named('VALUE')\n",
    "SIZE = rule(\n",
    "    KEY,\n",
    "    VALUE\n",
    ").named('SIZE')\n",
    "SIZE.normalized.as_bnf"
   ]
  },
  {
   "cell_type": "code",
   "execution_count": 13,
   "metadata": {
    "ExecuteTime": {
     "end_time": "2020-02-12T14:14:27.723857Z",
     "start_time": "2020-02-12T14:14:27.662113Z"
    }
   },
   "outputs": [
    {
     "ename": "NameError",
     "evalue": "name 'Parser' is not defined",
     "output_type": "error",
     "traceback": [
      "\u001b[0;31m---------------------------------------------------------------------------\u001b[0m",
      "\u001b[0;31mNameError\u001b[0m                                 Traceback (most recent call last)",
      "\u001b[0;32m<ipython-input-13-73dc9170c03f>\u001b[0m in \u001b[0;36m<module>\u001b[0;34m\u001b[0m\n\u001b[0;32m----> 1\u001b[0;31m parser = Parser(\n\u001b[0m\u001b[1;32m      2\u001b[0m     \u001b[0mSIZE\u001b[0m\u001b[0;34m\u001b[0m\u001b[0;34m\u001b[0m\u001b[0m\n\u001b[1;32m      3\u001b[0m )\n\u001b[1;32m      4\u001b[0m \u001b[0mtext\u001b[0m \u001b[0;34m=\u001b[0m \u001b[0;34m'размер M; размер A; размер XS;'\u001b[0m\u001b[0;34m\u001b[0m\u001b[0;34m\u001b[0m\u001b[0m\n\u001b[1;32m      5\u001b[0m \u001b[0;32mfor\u001b[0m \u001b[0mmatch\u001b[0m \u001b[0;32min\u001b[0m \u001b[0mparser\u001b[0m\u001b[0;34m.\u001b[0m\u001b[0mfindall\u001b[0m\u001b[0;34m(\u001b[0m\u001b[0mtext\u001b[0m\u001b[0;34m)\u001b[0m\u001b[0;34m:\u001b[0m\u001b[0;34m\u001b[0m\u001b[0;34m\u001b[0m\u001b[0m\n",
      "\u001b[0;31mNameError\u001b[0m: name 'Parser' is not defined"
     ]
    }
   ],
   "source": [
    "parser = Parser(\n",
    "    SIZE\n",
    ")\n",
    "text = 'размер M; размер A; размер XS;'\n",
    "for match in parser.findall(text):\n",
    "    print([_.value for _ in match.tokens])"
   ]
  },
  {
   "cell_type": "code",
   "execution_count": 48,
   "metadata": {
    "ExecuteTime": {
     "end_time": "2020-02-12T14:12:19.308726Z",
     "start_time": "2020-02-12T14:12:17.354354Z"
    }
   },
   "outputs": [],
   "source": [
    "from yargy import Parser, rule, and_, or_, not_\n",
    "from yargy.interpretation import fact, attribute\n",
    "from yargy.predicates import gram, is_capitalized, dictionary, eq\n",
    "import re\n",
    "import pandas as pd\n",
    "from tqdm import tqdm_notebook\n",
    "from gensim import utils"
   ]
  },
  {
   "cell_type": "code",
   "execution_count": 49,
   "metadata": {
    "ExecuteTime": {
     "end_time": "2020-02-12T14:12:19.323139Z",
     "start_time": "2020-02-12T14:12:19.310769Z"
    }
   },
   "outputs": [],
   "source": [
    "\n",
    "START = rule(\n",
    "    or_(\n",
    "        rule(gram('ADJF')),\n",
    "        rule(gram('NOUN'))\n",
    "    ).optional(),\n",
    "    gram('NOUN')\n",
    ")\n",
    "\n",
    "START_S = or_(\n",
    "    eq('такой'),\n",
    "    eq('такие'),\n",
    ")\n",
    "\n",
    "KAK = eq('как')\n",
    "INCLUDING = or_(\n",
    "    or_(\n",
    "        eq('в'),\n",
    "        eq('том'),\n",
    "        eq('числе'),\n",
    "    ),\n",
    "    eq('включающий'),\n",
    "    or_(\n",
    "        eq('включающий'),\n",
    "        eq('в'),\n",
    "        eq('себя'),\n",
    "    ),\n",
    "    or_(\n",
    "        eq('включающие'),\n",
    "        eq('в'),\n",
    "        eq('себя'),\n",
    "    ),\n",
    "    eq('включающие'),\n",
    "    eq('особенно'),\n",
    "\n",
    ")\n",
    "\n",
    "MID_S = or_(\n",
    "    rule(\n",
    "        or_(\n",
    "            eq('такой'),\n",
    "            eq('такие'),\n",
    "            eq('тот'),\n",
    "            eq('то'),\n",
    "        ),\n",
    "        eq('как')\n",
    "    )\n",
    ")\n",
    "ATAKJE = rule(\n",
    "    eq(','),\n",
    "    eq('а'),\n",
    "    eq('также')\n",
    ")\n",
    "\n",
    "MID = or_(\n",
    "    rule(\n",
    "        eq('это')\n",
    "    ),\n",
    "    rule(\n",
    "        eq('—')\n",
    "    ),\n",
    "    rule(\n",
    "        eq('—'),\n",
    "        eq('это')\n",
    "    ),\n",
    "    rule(\n",
    "        eq('—'),\n",
    "        not_(eq('км'))\n",
    "    ),\n",
    "    rule(\n",
    "        or_(\n",
    "            eq('и'),\n",
    "            eq('или'),\n",
    "        ),\n",
    "        eq('другие')\n",
    "    )\n",
    ")\n",
    "\n",
    "END = or_(\n",
    "    rule(\n",
    "        gram('NOUN'),\n",
    "        gram('NOUN')\n",
    "    ),\n",
    "    rule(\n",
    "        gram('ADJF').repeatable(),\n",
    "        gram('NOUN')\n",
    "    ),\n",
    "    rule(\n",
    "        gram('ADJF'),\n",
    "        gram('ADJF').repeatable(),\n",
    "        gram('NOUN')\n",
    "    ),\n",
    "    rule(\n",
    "        gram('NOUN').repeatable(),\n",
    "        gram('ADJF'),\n",
    "        gram('NOUN').repeatable()\n",
    "    ),\n",
    "    rule(\n",
    "        gram('NOUN').repeatable()\n",
    "    )\n",
    ")\n",
    "\n",
    "Item = fact(\n",
    "    'Item',\n",
    "    [attribute('titles').repeatable()]\n",
    ")\n",
    "\n",
    "\n",
    "IGNORE = rule(\n",
    "    '(',\n",
    "    not_(eq(')')).repeatable(),\n",
    "    ')'\n",
    ")\n",
    "\n",
    "ITEM = rule(\n",
    "    IGNORE.interpretation(\n",
    "        Item.titles\n",
    "    ),\n",
    "    eq(',').optional() \n",
    ").repeatable().interpretation(\n",
    "    Item\n",
    ")"
   ]
  },
  {
   "cell_type": "code",
   "execution_count": 54,
   "metadata": {
    "ExecuteTime": {
     "end_time": "2020-02-12T14:12:19.434702Z",
     "start_time": "2020-02-12T14:12:19.324707Z"
    }
   },
   "outputs": [],
   "source": [
    "def get_hyperonyms(main_word, text):\n",
    "    HYPONYM = eq(utils.deaccent(main_word))\n",
    "    RULE = or_(\n",
    "        rule(HYPONYM, ATAKJE, START, MID, END),\n",
    "        rule(HYPONYM, MID, END),\n",
    "        rule(START_S, END, KAK, HYPONYM),\n",
    "        rule(END, INCLUDING, HYPONYM)\n",
    "    )\n",
    "    parser = Parser(RULE) \n",
    "    text = utils.deaccent(wikipedia.summary(main_word))\n",
    "    print(text)\n",
    "    text = re.sub(r'\\(.+?\\)', '', text)\n",
    "    text = text.lower().replace('* сергии радонежскии* ', '')\n",
    "    for idx, match in enumerate(parser.findall(text.lower())):\n",
    "        k = [_.value for _ in match.tokens]\n",
    "        print(k)"
   ]
  },
  {
   "cell_type": "code",
   "execution_count": 56,
   "metadata": {
    "ExecuteTime": {
     "end_time": "2020-02-12T14:12:22.648500Z",
     "start_time": "2020-02-12T14:12:19.437840Z"
    }
   },
   "outputs": [
    {
     "name": "stdout",
     "output_type": "stream",
     "text": [
      "{'весы': [], 'ветла': [], 'вечерник': [], 'вешенка': [], 'вигвам': [], 'виджей': [], 'виконт': [], 'вирусописатель': [], 'висмут': [], 'вист': [], 'витязь': [], 'властолюбие': [], 'водянка': [], 'военкор': [], 'возмутитель': [], 'возчик': [], 'волонтерство': [], 'волхв': [], 'волынщик': [], 'вольнослушатель': [], 'ворон': [], 'ворсинка': [], 'восьмилетие': [], 'восьмилетка': []}\n",
      "Весы — устроиство или прибор для определения массы тел (взвешивания) по деиствующему на них весу, приближенно считая его равным силе тяжести. Вес тела может быть определен как через сравнение с весом эталоннои массы (как в рычажных весах), так и через измерение этои силы через другие физические величины.\n",
      "Помимо самостоятельного использования весы могут быть основным элементом автоматизированнои системы учета и контроля материальных потоков. Это обеспечивает оперативное управление производством и позволяет увеличить объемы производства, повысить качество и рентабельность продукции, снижая при этом затраты и издержки.\n",
      "['весы', '—', 'устроиство']\n",
      "[]\n",
      "Весы — устроиство или прибор для определения массы тел (взвешивания) по деиствующему на них весу, приближенно считая его равным силе тяжести. Вес тела может быть определен как через сравнение с весом эталоннои массы (как в рычажных весах), так и через измерение этои силы через другие физические величины.\n",
      "Помимо самостоятельного использования весы могут быть основным элементом автоматизированнои системы учета и контроля материальных потоков. Это обеспечивает оперативное управление производством и позволяет увеличить объемы производства, повысить качество и рентабельность продукции, снижая при этом затраты и издержки.\n",
      "['весы', '—', 'устроиство']\n",
      "[None]\n",
      "Весы — устроиство или прибор для определения массы тел (взвешивания) по деиствующему на них весу, приближенно считая его равным силе тяжести. Вес тела может быть определен как через сравнение с весом эталоннои массы (как в рычажных весах), так и через измерение этои силы через другие физические величины.\n",
      "Помимо самостоятельного использования весы могут быть основным элементом автоматизированнои системы учета и контроля материальных потоков. Это обеспечивает оперативное управление производством и позволяет увеличить объемы производства, повысить качество и рентабельность продукции, снижая при этом затраты и издержки.\n",
      "['весы', '—', 'устроиство']\n",
      "[None]\n",
      "Весы — устроиство или прибор для определения массы тел (взвешивания) по деиствующему на них весу, приближенно считая его равным силе тяжести. Вес тела может быть определен как через сравнение с весом эталоннои массы (как в рычажных весах), так и через измерение этои силы через другие физические величины.\n",
      "Помимо самостоятельного использования весы могут быть основным элементом автоматизированнои системы учета и контроля материальных потоков. Это обеспечивает оперативное управление производством и позволяет увеличить объемы производства, повысить качество и рентабельность продукции, снижая при этом затраты и издержки.\n",
      "['весы', '—', 'устроиство']\n",
      "[None]\n",
      "Весы — устроиство или прибор для определения массы тел (взвешивания) по деиствующему на них весу, приближенно считая его равным силе тяжести. Вес тела может быть определен как через сравнение с весом эталоннои массы (как в рычажных весах), так и через измерение этои силы через другие физические величины.\n",
      "Помимо самостоятельного использования весы могут быть основным элементом автоматизированнои системы учета и контроля материальных потоков. Это обеспечивает оперативное управление производством и позволяет увеличить объемы производства, повысить качество и рентабельность продукции, снижая при этом затраты и издержки.\n",
      "['весы', '—', 'устроиство']\n",
      "[None]\n",
      "Ива (лат. Salix) — род древесных растении семеиства Ивовые (Salicaceae).\n",
      "В русском языке по отношению к видам ивы используется также много других названии — ветла, ракита, лоза, лозина, верба, тальник.\n",
      "Очень распространенные в среднеи части России растения. Большинство видов ив любят влажность и селятся в сырых местах, в сухих же местах (на склонах, песках и т. п.) и на болотах растут сравнительно немногие виды. Встречается ива и в лесах, как подмесь к другим деревьям.\n",
      "Внешнии вид ив весьма разнообразен: среди них есть высокие деревья (Salix alba, Salix fragilis, Salix caprea) и кустарники (Salix viminalis, Salix daphnoides, Salix purpurea), иногда довольно мелкие, приземистые, стелющиеся по земле (Salix lapponica , Salix repens var. rosmarinifolia, Salix myrtilloides); в полярных же странах и на высоких горах, в нагорных областях, растут еще более мелкие ивы-карлики, такие как (Salix herbacea, Salix reticulata), весьма мелкие кустарнички, не выше 2,5 сантиметров, и не превышающие мхов, среди которых они растут.\n",
      "[]\n",
      "Ива (лат. Salix) — род древесных растении семеиства Ивовые (Salicaceae).\n",
      "В русском языке по отношению к видам ивы используется также много других названии — ветла, ракита, лоза, лозина, верба, тальник.\n",
      "Очень распространенные в среднеи части России растения. Большинство видов ив любят влажность и селятся в сырых местах, в сухих же местах (на склонах, песках и т. п.) и на болотах растут сравнительно немногие виды. Встречается ива и в лесах, как подмесь к другим деревьям.\n",
      "Внешнии вид ив весьма разнообразен: среди них есть высокие деревья (Salix alba, Salix fragilis, Salix caprea) и кустарники (Salix viminalis, Salix daphnoides, Salix purpurea), иногда довольно мелкие, приземистые, стелющиеся по земле (Salix lapponica , Salix repens var. rosmarinifolia, Salix myrtilloides); в полярных же странах и на высоких горах, в нагорных областях, растут еще более мелкие ивы-карлики, такие как (Salix herbacea, Salix reticulata), весьма мелкие кустарнички, не выше 2,5 сантиметров, и не превышающие мхов, среди которых они растут.\n",
      "[None]\n",
      "Ива (лат. Salix) — род древесных растении семеиства Ивовые (Salicaceae).\n",
      "В русском языке по отношению к видам ивы используется также много других названии — ветла, ракита, лоза, лозина, верба, тальник.\n",
      "Очень распространенные в среднеи части России растения. Большинство видов ив любят влажность и селятся в сырых местах, в сухих же местах (на склонах, песках и т. п.) и на болотах растут сравнительно немногие виды. Встречается ива и в лесах, как подмесь к другим деревьям.\n",
      "Внешнии вид ив весьма разнообразен: среди них есть высокие деревья (Salix alba, Salix fragilis, Salix caprea) и кустарники (Salix viminalis, Salix daphnoides, Salix purpurea), иногда довольно мелкие, приземистые, стелющиеся по земле (Salix lapponica , Salix repens var. rosmarinifolia, Salix myrtilloides); в полярных же странах и на высоких горах, в нагорных областях, растут еще более мелкие ивы-карлики, такие как (Salix herbacea, Salix reticulata), весьма мелкие кустарнички, не выше 2,5 сантиметров, и не превышающие мхов, среди которых они растут.\n",
      "[None]\n",
      "Ива (лат. Salix) — род древесных растении семеиства Ивовые (Salicaceae).\n",
      "В русском языке по отношению к видам ивы используется также много других названии — ветла, ракита, лоза, лозина, верба, тальник.\n",
      "Очень распространенные в среднеи части России растения. Большинство видов ив любят влажность и селятся в сырых местах, в сухих же местах (на склонах, песках и т. п.) и на болотах растут сравнительно немногие виды. Встречается ива и в лесах, как подмесь к другим деревьям.\n",
      "Внешнии вид ив весьма разнообразен: среди них есть высокие деревья (Salix alba, Salix fragilis, Salix caprea) и кустарники (Salix viminalis, Salix daphnoides, Salix purpurea), иногда довольно мелкие, приземистые, стелющиеся по земле (Salix lapponica , Salix repens var. rosmarinifolia, Salix myrtilloides); в полярных же странах и на высоких горах, в нагорных областях, растут еще более мелкие ивы-карлики, такие как (Salix herbacea, Salix reticulata), весьма мелкие кустарнички, не выше 2,5 сантиметров, и не превышающие мхов, среди которых они растут.\n",
      "[None]\n",
      "Ива (лат. Salix) — род древесных растении семеиства Ивовые (Salicaceae).\n",
      "В русском языке по отношению к видам ивы используется также много других названии — ветла, ракита, лоза, лозина, верба, тальник.\n",
      "Очень распространенные в среднеи части России растения. Большинство видов ив любят влажность и селятся в сырых местах, в сухих же местах (на склонах, песках и т. п.) и на болотах растут сравнительно немногие виды. Встречается ива и в лесах, как подмесь к другим деревьям.\n",
      "Внешнии вид ив весьма разнообразен: среди них есть высокие деревья (Salix alba, Salix fragilis, Salix caprea) и кустарники (Salix viminalis, Salix daphnoides, Salix purpurea), иногда довольно мелкие, приземистые, стелющиеся по земле (Salix lapponica , Salix repens var. rosmarinifolia, Salix myrtilloides); в полярных же странах и на высоких горах, в нагорных областях, растут еще более мелкие ивы-карлики, такие как (Salix herbacea, Salix reticulata), весьма мелкие кустарнички, не выше 2,5 сантиметров, и не превышающие мхов, среди которых они растут.\n",
      "[None]\n"
     ]
    },
    {
     "ename": "PageError",
     "evalue": "Page id \"вечерний\" does not match any pages. Try another id!",
     "output_type": "error",
     "traceback": [
      "\u001b[0;31m---------------------------------------------------------------------------\u001b[0m",
      "\u001b[0;31mPageError\u001b[0m                                 Traceback (most recent call last)",
      "\u001b[0;32m<ipython-input-56-e0802a14fa26>\u001b[0m in \u001b[0;36m<module>\u001b[0;34m\u001b[0m\n\u001b[1;32m     22\u001b[0m   \u001b[0mgyponyms\u001b[0m\u001b[0;34m[\u001b[0m\u001b[0mi\u001b[0m\u001b[0;34m]\u001b[0m \u001b[0;34m=\u001b[0m \u001b[0mgyponyms\u001b[0m\u001b[0;34m[\u001b[0m\u001b[0mi\u001b[0m\u001b[0;34m]\u001b[0m\u001b[0;34m.\u001b[0m\u001b[0mlower\u001b[0m\u001b[0;34m(\u001b[0m\u001b[0;34m)\u001b[0m\u001b[0;34m\u001b[0m\u001b[0;34m\u001b[0m\u001b[0m\n\u001b[1;32m     23\u001b[0m   \u001b[0;31m#print(\"Hyperonym for \"+ str(words[i]) + \" :\" )\u001b[0m\u001b[0;34m\u001b[0m\u001b[0;34m\u001b[0m\u001b[0;34m\u001b[0m\u001b[0m\n\u001b[0;32m---> 24\u001b[0;31m   \u001b[0mhyperonym_i\u001b[0m \u001b[0;34m=\u001b[0m \u001b[0mget_hyperonyms\u001b[0m\u001b[0;34m(\u001b[0m\u001b[0mgyponyms\u001b[0m\u001b[0;34m[\u001b[0m\u001b[0mi\u001b[0m\u001b[0;34m]\u001b[0m\u001b[0;34m,\u001b[0m \u001b[0mtext\u001b[0m\u001b[0;34m[\u001b[0m\u001b[0mi\u001b[0m\u001b[0;34m]\u001b[0m\u001b[0;34m)\u001b[0m\u001b[0;34m\u001b[0m\u001b[0;34m\u001b[0m\u001b[0m\n\u001b[0m\u001b[1;32m     25\u001b[0m   \u001b[0mprint\u001b[0m\u001b[0;34m(\u001b[0m\u001b[0mhypo_hyper_map\u001b[0m\u001b[0;34m[\u001b[0m\u001b[0mgyponyms\u001b[0m\u001b[0;34m[\u001b[0m\u001b[0mi\u001b[0m\u001b[0;34m]\u001b[0m\u001b[0;34m]\u001b[0m\u001b[0;34m)\u001b[0m\u001b[0;34m\u001b[0m\u001b[0;34m\u001b[0m\u001b[0m\n\u001b[1;32m     26\u001b[0m   \u001b[0;32mif\u001b[0m \u001b[0mhyperonym_i\u001b[0m \u001b[0;32mnot\u001b[0m \u001b[0;32min\u001b[0m \u001b[0mhypo_hyper_map\u001b[0m\u001b[0;34m[\u001b[0m\u001b[0mgyponyms\u001b[0m\u001b[0;34m[\u001b[0m\u001b[0mi\u001b[0m\u001b[0;34m]\u001b[0m\u001b[0;34m]\u001b[0m\u001b[0;34m:\u001b[0m\u001b[0;34m\u001b[0m\u001b[0;34m\u001b[0m\u001b[0m\n",
      "\u001b[0;32m<ipython-input-54-b2dccf13f18f>\u001b[0m in \u001b[0;36mget_hyperonyms\u001b[0;34m(main_word, text)\u001b[0m\n\u001b[1;32m      8\u001b[0m     )\n\u001b[1;32m      9\u001b[0m     \u001b[0mparser\u001b[0m \u001b[0;34m=\u001b[0m \u001b[0mParser\u001b[0m\u001b[0;34m(\u001b[0m\u001b[0mRULE\u001b[0m\u001b[0;34m)\u001b[0m\u001b[0;34m\u001b[0m\u001b[0;34m\u001b[0m\u001b[0m\n\u001b[0;32m---> 10\u001b[0;31m     \u001b[0mtext\u001b[0m \u001b[0;34m=\u001b[0m \u001b[0mutils\u001b[0m\u001b[0;34m.\u001b[0m\u001b[0mdeaccent\u001b[0m\u001b[0;34m(\u001b[0m\u001b[0mwikipedia\u001b[0m\u001b[0;34m.\u001b[0m\u001b[0msummary\u001b[0m\u001b[0;34m(\u001b[0m\u001b[0mmain_word\u001b[0m\u001b[0;34m)\u001b[0m\u001b[0;34m)\u001b[0m\u001b[0;34m\u001b[0m\u001b[0;34m\u001b[0m\u001b[0m\n\u001b[0m\u001b[1;32m     11\u001b[0m     \u001b[0mprint\u001b[0m\u001b[0;34m(\u001b[0m\u001b[0mtext\u001b[0m\u001b[0;34m)\u001b[0m\u001b[0;34m\u001b[0m\u001b[0;34m\u001b[0m\u001b[0m\n\u001b[1;32m     12\u001b[0m     \u001b[0mtext\u001b[0m \u001b[0;34m=\u001b[0m \u001b[0mre\u001b[0m\u001b[0;34m.\u001b[0m\u001b[0msub\u001b[0m\u001b[0;34m(\u001b[0m\u001b[0;34mr'\\(.+?\\)'\u001b[0m\u001b[0;34m,\u001b[0m \u001b[0;34m''\u001b[0m\u001b[0;34m,\u001b[0m \u001b[0mtext\u001b[0m\u001b[0;34m)\u001b[0m\u001b[0;34m\u001b[0m\u001b[0;34m\u001b[0m\u001b[0m\n",
      "\u001b[0;32m~/opt/anaconda3/lib/python3.7/site-packages/wikipedia/util.py\u001b[0m in \u001b[0;36m__call__\u001b[0;34m(self, *args, **kwargs)\u001b[0m\n\u001b[1;32m     26\u001b[0m       \u001b[0mret\u001b[0m \u001b[0;34m=\u001b[0m \u001b[0mself\u001b[0m\u001b[0;34m.\u001b[0m\u001b[0m_cache\u001b[0m\u001b[0;34m[\u001b[0m\u001b[0mkey\u001b[0m\u001b[0;34m]\u001b[0m\u001b[0;34m\u001b[0m\u001b[0;34m\u001b[0m\u001b[0m\n\u001b[1;32m     27\u001b[0m     \u001b[0;32melse\u001b[0m\u001b[0;34m:\u001b[0m\u001b[0;34m\u001b[0m\u001b[0;34m\u001b[0m\u001b[0m\n\u001b[0;32m---> 28\u001b[0;31m       \u001b[0mret\u001b[0m \u001b[0;34m=\u001b[0m \u001b[0mself\u001b[0m\u001b[0;34m.\u001b[0m\u001b[0m_cache\u001b[0m\u001b[0;34m[\u001b[0m\u001b[0mkey\u001b[0m\u001b[0;34m]\u001b[0m \u001b[0;34m=\u001b[0m \u001b[0mself\u001b[0m\u001b[0;34m.\u001b[0m\u001b[0mfn\u001b[0m\u001b[0;34m(\u001b[0m\u001b[0;34m*\u001b[0m\u001b[0margs\u001b[0m\u001b[0;34m,\u001b[0m \u001b[0;34m**\u001b[0m\u001b[0mkwargs\u001b[0m\u001b[0;34m)\u001b[0m\u001b[0;34m\u001b[0m\u001b[0;34m\u001b[0m\u001b[0m\n\u001b[0m\u001b[1;32m     29\u001b[0m \u001b[0;34m\u001b[0m\u001b[0m\n\u001b[1;32m     30\u001b[0m     \u001b[0;32mreturn\u001b[0m \u001b[0mret\u001b[0m\u001b[0;34m\u001b[0m\u001b[0;34m\u001b[0m\u001b[0m\n",
      "\u001b[0;32m~/opt/anaconda3/lib/python3.7/site-packages/wikipedia/wikipedia.py\u001b[0m in \u001b[0;36msummary\u001b[0;34m(title, sentences, chars, auto_suggest, redirect)\u001b[0m\n\u001b[1;32m    229\u001b[0m   \u001b[0;31m# use auto_suggest and redirect to get the correct article\u001b[0m\u001b[0;34m\u001b[0m\u001b[0;34m\u001b[0m\u001b[0;34m\u001b[0m\u001b[0m\n\u001b[1;32m    230\u001b[0m   \u001b[0;31m# also, use page's error checking to raise DisambiguationError if necessary\u001b[0m\u001b[0;34m\u001b[0m\u001b[0;34m\u001b[0m\u001b[0;34m\u001b[0m\u001b[0m\n\u001b[0;32m--> 231\u001b[0;31m   \u001b[0mpage_info\u001b[0m \u001b[0;34m=\u001b[0m \u001b[0mpage\u001b[0m\u001b[0;34m(\u001b[0m\u001b[0mtitle\u001b[0m\u001b[0;34m,\u001b[0m \u001b[0mauto_suggest\u001b[0m\u001b[0;34m=\u001b[0m\u001b[0mauto_suggest\u001b[0m\u001b[0;34m,\u001b[0m \u001b[0mredirect\u001b[0m\u001b[0;34m=\u001b[0m\u001b[0mredirect\u001b[0m\u001b[0;34m)\u001b[0m\u001b[0;34m\u001b[0m\u001b[0;34m\u001b[0m\u001b[0m\n\u001b[0m\u001b[1;32m    232\u001b[0m   \u001b[0mtitle\u001b[0m \u001b[0;34m=\u001b[0m \u001b[0mpage_info\u001b[0m\u001b[0;34m.\u001b[0m\u001b[0mtitle\u001b[0m\u001b[0;34m\u001b[0m\u001b[0;34m\u001b[0m\u001b[0m\n\u001b[1;32m    233\u001b[0m   \u001b[0mpageid\u001b[0m \u001b[0;34m=\u001b[0m \u001b[0mpage_info\u001b[0m\u001b[0;34m.\u001b[0m\u001b[0mpageid\u001b[0m\u001b[0;34m\u001b[0m\u001b[0;34m\u001b[0m\u001b[0m\n",
      "\u001b[0;32m~/opt/anaconda3/lib/python3.7/site-packages/wikipedia/wikipedia.py\u001b[0m in \u001b[0;36mpage\u001b[0;34m(title, pageid, auto_suggest, redirect, preload)\u001b[0m\n\u001b[1;32m    274\u001b[0m         \u001b[0;31m# if there is no suggestion or search results, the page doesn't exist\u001b[0m\u001b[0;34m\u001b[0m\u001b[0;34m\u001b[0m\u001b[0;34m\u001b[0m\u001b[0m\n\u001b[1;32m    275\u001b[0m         \u001b[0;32mraise\u001b[0m \u001b[0mPageError\u001b[0m\u001b[0;34m(\u001b[0m\u001b[0mtitle\u001b[0m\u001b[0;34m)\u001b[0m\u001b[0;34m\u001b[0m\u001b[0;34m\u001b[0m\u001b[0m\n\u001b[0;32m--> 276\u001b[0;31m     \u001b[0;32mreturn\u001b[0m \u001b[0mWikipediaPage\u001b[0m\u001b[0;34m(\u001b[0m\u001b[0mtitle\u001b[0m\u001b[0;34m,\u001b[0m \u001b[0mredirect\u001b[0m\u001b[0;34m=\u001b[0m\u001b[0mredirect\u001b[0m\u001b[0;34m,\u001b[0m \u001b[0mpreload\u001b[0m\u001b[0;34m=\u001b[0m\u001b[0mpreload\u001b[0m\u001b[0;34m)\u001b[0m\u001b[0;34m\u001b[0m\u001b[0;34m\u001b[0m\u001b[0m\n\u001b[0m\u001b[1;32m    277\u001b[0m   \u001b[0;32melif\u001b[0m \u001b[0mpageid\u001b[0m \u001b[0;32mis\u001b[0m \u001b[0;32mnot\u001b[0m \u001b[0;32mNone\u001b[0m\u001b[0;34m:\u001b[0m\u001b[0;34m\u001b[0m\u001b[0;34m\u001b[0m\u001b[0m\n\u001b[1;32m    278\u001b[0m     \u001b[0;32mreturn\u001b[0m \u001b[0mWikipediaPage\u001b[0m\u001b[0;34m(\u001b[0m\u001b[0mpageid\u001b[0m\u001b[0;34m=\u001b[0m\u001b[0mpageid\u001b[0m\u001b[0;34m,\u001b[0m \u001b[0mpreload\u001b[0m\u001b[0;34m=\u001b[0m\u001b[0mpreload\u001b[0m\u001b[0;34m)\u001b[0m\u001b[0;34m\u001b[0m\u001b[0;34m\u001b[0m\u001b[0m\n",
      "\u001b[0;32m~/opt/anaconda3/lib/python3.7/site-packages/wikipedia/wikipedia.py\u001b[0m in \u001b[0;36m__init__\u001b[0;34m(self, title, pageid, redirect, preload, original_title)\u001b[0m\n\u001b[1;32m    297\u001b[0m       \u001b[0;32mraise\u001b[0m \u001b[0mValueError\u001b[0m\u001b[0;34m(\u001b[0m\u001b[0;34m\"Either a title or a pageid must be specified\"\u001b[0m\u001b[0;34m)\u001b[0m\u001b[0;34m\u001b[0m\u001b[0;34m\u001b[0m\u001b[0m\n\u001b[1;32m    298\u001b[0m \u001b[0;34m\u001b[0m\u001b[0m\n\u001b[0;32m--> 299\u001b[0;31m     \u001b[0mself\u001b[0m\u001b[0;34m.\u001b[0m\u001b[0m__load\u001b[0m\u001b[0;34m(\u001b[0m\u001b[0mredirect\u001b[0m\u001b[0;34m=\u001b[0m\u001b[0mredirect\u001b[0m\u001b[0;34m,\u001b[0m \u001b[0mpreload\u001b[0m\u001b[0;34m=\u001b[0m\u001b[0mpreload\u001b[0m\u001b[0;34m)\u001b[0m\u001b[0;34m\u001b[0m\u001b[0;34m\u001b[0m\u001b[0m\n\u001b[0m\u001b[1;32m    300\u001b[0m \u001b[0;34m\u001b[0m\u001b[0m\n\u001b[1;32m    301\u001b[0m     \u001b[0;32mif\u001b[0m \u001b[0mpreload\u001b[0m\u001b[0;34m:\u001b[0m\u001b[0;34m\u001b[0m\u001b[0;34m\u001b[0m\u001b[0m\n",
      "\u001b[0;32m~/opt/anaconda3/lib/python3.7/site-packages/wikipedia/wikipedia.py\u001b[0m in \u001b[0;36m__load\u001b[0;34m(self, redirect, preload)\u001b[0m\n\u001b[1;32m    343\u001b[0m     \u001b[0;32mif\u001b[0m \u001b[0;34m'missing'\u001b[0m \u001b[0;32min\u001b[0m \u001b[0mpage\u001b[0m\u001b[0;34m:\u001b[0m\u001b[0;34m\u001b[0m\u001b[0;34m\u001b[0m\u001b[0m\n\u001b[1;32m    344\u001b[0m       \u001b[0;32mif\u001b[0m \u001b[0mhasattr\u001b[0m\u001b[0;34m(\u001b[0m\u001b[0mself\u001b[0m\u001b[0;34m,\u001b[0m \u001b[0;34m'title'\u001b[0m\u001b[0;34m)\u001b[0m\u001b[0;34m:\u001b[0m\u001b[0;34m\u001b[0m\u001b[0;34m\u001b[0m\u001b[0m\n\u001b[0;32m--> 345\u001b[0;31m         \u001b[0;32mraise\u001b[0m \u001b[0mPageError\u001b[0m\u001b[0;34m(\u001b[0m\u001b[0mself\u001b[0m\u001b[0;34m.\u001b[0m\u001b[0mtitle\u001b[0m\u001b[0;34m)\u001b[0m\u001b[0;34m\u001b[0m\u001b[0;34m\u001b[0m\u001b[0m\n\u001b[0m\u001b[1;32m    346\u001b[0m       \u001b[0;32melse\u001b[0m\u001b[0;34m:\u001b[0m\u001b[0;34m\u001b[0m\u001b[0;34m\u001b[0m\u001b[0m\n\u001b[1;32m    347\u001b[0m         \u001b[0;32mraise\u001b[0m \u001b[0mPageError\u001b[0m\u001b[0;34m(\u001b[0m\u001b[0mpageid\u001b[0m\u001b[0;34m=\u001b[0m\u001b[0mself\u001b[0m\u001b[0;34m.\u001b[0m\u001b[0mpageid\u001b[0m\u001b[0;34m)\u001b[0m\u001b[0;34m\u001b[0m\u001b[0;34m\u001b[0m\u001b[0m\n",
      "\u001b[0;31mPageError\u001b[0m: Page id \"вечерний\" does not match any pages. Try another id!"
     ]
    }
   ],
   "source": [
    "ds = pd.read_excel('Hyperonyms.xlsx')\n",
    "#print(ds.head(5))\n",
    "gyponyms = ds['Гипоним'].tolist()\n",
    "hyperonyms = ds['Гипероним'].tolist() \n",
    "text = ds['Значение'].tolist()\n",
    "hypo_hyper_map = {}\n",
    "\n",
    "for word in ds['Гипоним'].unique().tolist():\n",
    "  hypo_hyper_map[word.lower()] = []\n",
    "\n",
    "print(hypo_hyper_map)\n",
    "\n",
    "#print(len(words))\n",
    "final_hyperonyms = []\n",
    "if len(gyponyms)!=len(text):\n",
    "  print(\"Количество гипонимов и значении не равно. \")\n",
    "  exit\n",
    "\n",
    "cnt = 0\n",
    "for i in range(len(gyponyms)):\n",
    "  #print(type(words[i]))\n",
    "  gyponyms[i] = gyponyms[i].lower()\n",
    "  #print(\"Hyperonym for \"+ str(words[i]) + \" :\" )\n",
    "  hyperonym_i = get_hyperonyms(gyponyms[i], text[i])\n",
    "  print(hypo_hyper_map[gyponyms[i]])\n",
    "  if hyperonym_i not in hypo_hyper_map[gyponyms[i]]:\n",
    "    hypo_hyper_map[gyponyms[i]].append(hyperonym_i)"
   ]
  },
  {
   "cell_type": "markdown",
   "metadata": {},
   "source": [
    "#### Task 1 (deadline 19.02.2020 24:00)\n",
    "* Find your name on the spreadsheet https://docs.google.com/spreadsheets/d/1RR2I6toCkebbGU1UK83HS70Ru_l0_o-nnZIHyiFB0No/edit?usp=sharing. In opposite of your name there are 24 words of hyponyms, you have to insert five corresponding hypernyms next to them. Examples of hyponyms and hyperonyms relationship you can find above in the current Jupiter notebook.\n",
    "* Find for each pair of hyponyms and hypernyms a corresponding snippet of a text with their mentions. The source of the text can be any free resources, e.g., Wikipedia, Google, Yandex, others. You should save the snippets and their URLs within the lab2 folder in your NLP git-repo with .csv file-extension in a single file.\n",
    "\n",
    "#### Task 2 (deadline 26.02.2020 24:00)\n",
    "* It would be best if you created a pandas DataFrame of the texts from the previous task. And apply to the DataFrame the function 'get_hyperonyms,' which must return the list of the corresponding hypernyms from the text automatically. If there are errors or misses, you should fix them in the code for your case of the 24 words. Nevertheless, it is strictly prohibited to use hard coding. Save your notebook with parser code within the lab2 folder in your NLP git-repo."
   ]
  },
  {
   "cell_type": "code",
   "execution_count": null,
   "metadata": {},
   "outputs": [],
   "source": []
  }
 ],
 "metadata": {
  "kernelspec": {
   "display_name": "Python 3",
   "language": "python",
   "name": "python3"
  },
  "language_info": {
   "codemirror_mode": {
    "name": "ipython",
    "version": 3
   },
   "file_extension": ".py",
   "mimetype": "text/x-python",
   "name": "python",
   "nbconvert_exporter": "python",
   "pygments_lexer": "ipython3",
   "version": "3.7.4"
  }
 },
 "nbformat": 4,
 "nbformat_minor": 2
}
